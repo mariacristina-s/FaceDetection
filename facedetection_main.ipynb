{
  "nbformat": 4,
  "nbformat_minor": 0,
  "metadata": {
    "colab": {
      "provenance": [],
      "gpuType": "T4",
      "authorship_tag": "ABX9TyN0GtdW3rT9nMIP7LmeiqFG"
    },
    "kernelspec": {
      "name": "python3",
      "display_name": "Python 3"
    },
    "language_info": {
      "name": "python"
    },
    "accelerator": "GPU"
  },
  "cells": [
    {
      "cell_type": "markdown",
      "source": [
        "# Imports and setup"
      ],
      "metadata": {
        "id": "SEtje4cSQOiE"
      }
    },
    {
      "cell_type": "code",
      "execution_count": 1,
      "metadata": {
        "colab": {
          "base_uri": "https://localhost:8080/"
        },
        "id": "AANB00FjPxDh",
        "outputId": "11d1c36f-f1f1-43db-bbee-2c071c17ec3d"
      },
      "outputs": [
        {
          "output_type": "stream",
          "name": "stdout",
          "text": [
            "Requirement already satisfied: mtcnn in /usr/local/lib/python3.11/dist-packages (1.0.0)\n",
            "Requirement already satisfied: joblib>=1.4.2 in /usr/local/lib/python3.11/dist-packages (from mtcnn) (1.4.2)\n",
            "Requirement already satisfied: lz4>=4.3.3 in /usr/local/lib/python3.11/dist-packages (from mtcnn) (4.4.3)\n"
          ]
        }
      ],
      "source": [
        "!pip install mtcnn\n",
        "\n",
        "# Import libraries\n",
        "import cv2\n",
        "from mtcnn import MTCNN\n",
        "import numpy as np\n",
        "from IPython.display import HTML\n",
        "from base64 import b64encode"
      ]
    },
    {
      "cell_type": "code",
      "source": [
        "# Obtain Haar Cascade Classifier\n",
        "!wget https://github.com/opencv/opencv/raw/master/data/haarcascades/haarcascade_frontalface_default.xml"
      ],
      "metadata": {
        "id": "1BNFw_UIlpEN"
      },
      "execution_count": 9,
      "outputs": []
    },
    {
      "cell_type": "code",
      "source": [
        "# Get sample video\n",
        "!wget https://cdn.pixabay.com/videvo_files/video/2016-03/large_mp4/india-people-asia-street-asian-1643.mp4 -O india_people.mp4"
      ],
      "metadata": {
        "id": "95oz9HXu1T0_"
      },
      "execution_count": null,
      "outputs": []
    },
    {
      "cell_type": "markdown",
      "source": [
        "# Video processing & Face detection in Python using OpenCV"
      ],
      "metadata": {
        "id": "RsQl8kKpgrn2"
      }
    },
    {
      "cell_type": "code",
      "source": [
        "# Path to video file\n",
        "video_path = \"video.mp4\"\n",
        "cap = cv2.VideoCapture(video_path)\n",
        "\n",
        "# Video properties\n",
        "width = int(cap.get(cv2.CAP_PROP_FRAME_WIDTH))\n",
        "height = int(cap.get(cv2.CAP_PROP_FRAME_HEIGHT))\n",
        "fps = cap.get(cv2.CAP_PROP_FPS)\n",
        "\n",
        "# Initialize VideoWriter\n",
        "fourcc = cv2.VideoWriter_fourcc(*'mp4v')\n",
        "out = cv2.VideoWriter('output_video_mtcnn.mp4', fourcc, fps, (width, height))\n",
        "\n",
        "# Initialize detector MTCNN\n",
        "detector = MTCNN()\n",
        "\n",
        "while cap.isOpened():\n",
        "    ret, frame = cap.read()\n",
        "    if not ret:\n",
        "        break\n",
        "\n",
        "    # Convert frame to RGB because MTCNN expects RGB,\n",
        "    # not BGR like the format OpenCV uses\n",
        "    rgb_frame = cv2.cvtColor(frame, cv2.COLOR_BGR2RGB)\n",
        "\n",
        "    # Detect faces in the frames\n",
        "    faces = detector.detect_faces(rgb_frame)\n",
        "\n",
        "    # Draw rectangles around faces\n",
        "    for face in faces:\n",
        "        x, y, w, h = face['box']\n",
        "        cv2.rectangle(frame, (x, y), (x + w, y + h), (0, 255, 0), 2)\n",
        "        # Display confidence score\n",
        "        confidence = face['confidence']\n",
        "        cv2.putText(frame, f\"{confidence:.2f}\", (x, y - 10),\n",
        "                    cv2.FONT_HERSHEY_SIMPLEX, 0.5, (0, 255, 0), 2)\n",
        "\n",
        "    out.write(frame)\n",
        "\n",
        "    # Real time output in Colab:\n",
        "    from google.colab.patches import cv2_imshow\n",
        "    cv2_imshow(frame)\n",
        "    cv2.waitKey(1)\n",
        "\n",
        "cap.release()\n",
        "out.release()\n",
        "\n",
        "mp4 = open('output_video_mtcnn.mp4', 'rb').read()\n",
        "data_url = \"data:video/mp4;base64,\" + b64encode(mp4).decode()\n",
        "HTML(\"\"\"\n",
        "<video width=640 controls>\n",
        "  <source src=\"%s\" type=\"video/mp4\">\n",
        "</video>\n",
        "\"\"\" % data_url)"
      ],
      "metadata": {
        "id": "nSQN_UolR_j6"
      },
      "execution_count": null,
      "outputs": []
    },
    {
      "cell_type": "markdown",
      "source": [
        "# Video processing & Face detection in C++ using OpenCV"
      ],
      "metadata": {
        "id": "bMf971GixK7a"
      }
    },
    {
      "cell_type": "code",
      "source": [
        "%%writefile main.cpp\n",
        "#include <opencv2/opencv.hpp>\n",
        "#include <opencv2/objdetect.hpp>\n",
        "#include <iostream>\n",
        "\n",
        "using namespace cv;\n",
        "using namespace std;\n",
        "\n",
        "int main() {\n",
        "    // Load Haar Cascade classifier\n",
        "    CascadeClassifier faceCascade;\n",
        "    if (!faceCascade.load(\"haarcascade_frontalface_default.xml\")) {\n",
        "        cerr << \"Error loading Haar Cascade classifier!\" << endl;\n",
        "        return -1;\n",
        "    }\n",
        "\n",
        "    // Open input video\n",
        "    // Modify name/ path if needed\n",
        "    VideoCapture cap(\"video.mp4\");\n",
        "    if (!cap.isOpened()) {\n",
        "        cerr << \"Couldn't open input video!\" << endl;\n",
        "        return -1;\n",
        "    }\n",
        "\n",
        "    // Obtain video properties\n",
        "    int width = static_cast<int>(cap.get(CAP_PROP_FRAME_WIDTH));\n",
        "    int height = static_cast<int>(cap.get(CAP_PROP_FRAME_HEIGHT));\n",
        "    double fps = cap.get(CAP_PROP_FPS);\n",
        "\n",
        "    // Initialize VideoWriter to save final results\n",
        "    VideoWriter writer(\"output_video_haar_cpp.mp4\", VideoWriter::fourcc('m','p','4','v'), fps, Size(width, height));\n",
        "    if (!writer.isOpened()){\n",
        "         cerr << \"Couldn't open output video!\" << endl;\n",
        "         return -1;\n",
        "    }\n",
        "\n",
        "    Mat frame;\n",
        "    while (cap.read(frame)) {\n",
        "        // Convert frame to grayscale for faster detection\n",
        "        Mat gray;\n",
        "        cvtColor(frame, gray, COLOR_BGR2GRAY);\n",
        "        equalizeHist(gray, gray);\n",
        "\n",
        "        // Detect faces in image/ frame\n",
        "        vector<Rect> faces;\n",
        "        faceCascade.detectMultiScale(gray, faces, 1.1, 3, 0, Size(30, 30));\n",
        "\n",
        "        // Draw rectangles\n",
        "        for (size_t i = 0; i < faces.size(); i++) {\n",
        "            rectangle(frame, faces[i], Scalar(0, 255, 0), 2);\n",
        "        }\n",
        "\n",
        "        // Write frame in output video file\n",
        "        writer.write(frame);\n",
        "    }\n",
        "\n",
        "    cap.release();\n",
        "    writer.release();\n",
        "    cout << \"Video processing ended successfully!\" << endl;\n",
        "    return 0;\n",
        "}"
      ],
      "metadata": {
        "colab": {
          "base_uri": "https://localhost:8080/"
        },
        "id": "a8aW5dIzkGHN",
        "outputId": "0cb177e9-846e-4f17-f195-5d0dfaa03fee"
      },
      "execution_count": 4,
      "outputs": [
        {
          "output_type": "stream",
          "name": "stdout",
          "text": [
            "Overwriting main.cpp\n"
          ]
        }
      ]
    },
    {
      "cell_type": "code",
      "source": [
        "!g++ main.cpp -o main `pkg-config --cflags --libs opencv4`"
      ],
      "metadata": {
        "id": "z2Twe-4hmiS5"
      },
      "execution_count": 5,
      "outputs": []
    },
    {
      "cell_type": "code",
      "source": [
        "!./main"
      ],
      "metadata": {
        "id": "vmnFbKkAmrjJ"
      },
      "execution_count": null,
      "outputs": []
    },
    {
      "cell_type": "code",
      "source": [
        "!file video.mp4\n",
        "\n",
        "# check if video exists"
      ],
      "metadata": {
        "colab": {
          "base_uri": "https://localhost:8080/"
        },
        "id": "OBo5o1xOx8nT",
        "outputId": "fd723f5c-eecf-4e04-95ca-6bfedd3f982d"
      },
      "execution_count": 7,
      "outputs": [
        {
          "output_type": "stream",
          "name": "stdout",
          "text": [
            "video.mp4: ISO Media, MP4 v2 [ISO 14496-14]\n"
          ]
        }
      ]
    }
  ]
}